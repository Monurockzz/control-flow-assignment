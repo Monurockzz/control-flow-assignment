{
  "nbformat": 4,
  "nbformat_minor": 0,
  "metadata": {
    "colab": {
      "provenance": []
    },
    "kernelspec": {
      "name": "python3",
      "display_name": "Python 3"
    },
    "language_info": {
      "name": "python"
    }
  },
  "cells": [
    {
      "cell_type": "markdown",
      "source": [
        "## **PYTHON CONTROL FLOW ASSIGNMENT**"
      ],
      "metadata": {
        "id": "MYAAw_CzFFQj"
      }
    },
    {
      "cell_type": "markdown",
      "source": [
        "Basic If-Else Statements:"
      ],
      "metadata": {
        "id": "cORr_i61m9bT"
      }
    },
    {
      "cell_type": "code",
      "execution_count": null,
      "metadata": {
        "id": "fp-IfdjYCLST"
      },
      "outputs": [],
      "source": [
        "# Geting input form the user\n",
        "number = float(input(\"Enter your number: \"))\n",
        "\n",
        "# Cheack wether the number negetive, positive,  or zero\n",
        "if number > 0:\n",
        "  print(\"Your number is positive\")\n",
        "elif number < 0:\n",
        "  print(\"Your number is negetive\")\n",
        "else:\n",
        "  print(\"Your number is zero\")\n",
        "\n",
        "\n",
        "\n"
      ]
    },
    {
      "cell_type": "code",
      "source": [
        "# Geting the age of the user\n",
        "age = int(input(\"Enter your age: \"))\n",
        "\n",
        "# Checking if the user is eligible to vote\n",
        "if age >= 18:\n",
        "  print(\"You are eligible to vote\")\n",
        "else:\n",
        "  print(\"You are not eligible to vote yet. Wait until you turn 18.\")\n",
        "\n",
        "\n"
      ],
      "metadata": {
        "id": "gnCKI-WkE46k"
      },
      "execution_count": null,
      "outputs": []
    },
    {
      "cell_type": "code",
      "source": [
        "# Geting input from the user\n",
        "num1 = float(input(\"Enter first number: \"))\n",
        "num2 = float(input(\"Enter second number: \"))\n",
        "\n",
        "# Comparing the numbers\n",
        "if num1 > num2:\n",
        "   print(f\"The maximum of {num1} and {num2} is: {num1} \")\n",
        "elif num1 < num2:\n",
        "  print(f\"The maximum of {num1} and {num2} is: {num2} \")\n",
        "else:\n",
        "  print(f\"The numbers {num1} and {num2} are equal\")\n",
        "\n"
      ],
      "metadata": {
        "id": "J56hVtDVHfHw"
      },
      "execution_count": null,
      "outputs": []
    },
    {
      "cell_type": "code",
      "source": [
        "# Get input from the user\n",
        "year = int(input(\"Enter a year: \"))\n",
        "\n",
        "# Check if the year is a leap year\n",
        "if (year % 4 == 0 and year % 100 != 0) or (year % 400 == 0):\n",
        "    print(f\"{year} is a leap year.\")\n",
        "else:\n",
        "    print(f\"{year} is not a leap year.\")\n"
      ],
      "metadata": {
        "id": "WsgOLfIbKsIr"
      },
      "execution_count": null,
      "outputs": []
    },
    {
      "cell_type": "code",
      "source": [
        "# Get input from the user (a single character)\n",
        "char = input(\"Enter a character: \")\n",
        "\n",
        "# Check if the input is a single character\n",
        "if len(char) == 1:\n",
        "    # Convert the character to lowercase for case-insensitive comparison\n",
        "    char_lower = char.lower()\n",
        "\n",
        "    # Check if the character is a vowel or a consonant\n",
        "    if char_lower in ['a', 'e', 'i', 'o', 'u']:\n",
        "        print(f\"{char} is a vowel.\")\n",
        "    else:\n",
        "        print(f\"{char} is a consonant.\")\n",
        "else:\n",
        "    print(\"Please enter a single character.\")\n"
      ],
      "metadata": {
        "id": "EbuoMv-BLzEc"
      },
      "execution_count": null,
      "outputs": []
    },
    {
      "cell_type": "code",
      "source": [
        "# Get input from the user\n",
        "score = float(input(\"Enter the student's score: \"))\n",
        "\n",
        "# Check the score range and assign a grade\n",
        "if 90 <= score <= 100:\n",
        "    grade = 'A'\n",
        "elif 80 <= score < 90:\n",
        "    grade = 'B'\n",
        "elif 70 <= score < 80:\n",
        "    grade = 'C'\n",
        "elif 60 <= score < 70:\n",
        "    grade = 'D'\n",
        "elif 0 <= score < 60:\n",
        "    grade = 'F'\n",
        "else:\n",
        "    grade = 'Invalid Score'\n",
        "\n",
        "# Print the grade\n",
        "print(f\"The student's score of {score} corresponds to the grade: {grade}\")\n"
      ],
      "metadata": {
        "id": "P85pGpoffdrz"
      },
      "execution_count": null,
      "outputs": []
    },
    {
      "cell_type": "code",
      "source": [
        "# Getting input from the user\n",
        "input_string = input(\"Enter a string: \")\n",
        "\n",
        "# Remove spaces and convert the string to lowercase for case-insensitive comparison\n",
        "cleaned_string = input_string.replace(\" \", \" \").lower()\n",
        "\n",
        " # Check if the string is a palindrome\n",
        "if cleaned_string == cleaned_string[::-1]:\n",
        "  print(f\"{input_string} is a palindrome.\")\n",
        "else:\n",
        "  print(f\"{input_string} is not a palindrome.\")\n",
        "\n"
      ],
      "metadata": {
        "id": "-yluFx36S4pz"
      },
      "execution_count": null,
      "outputs": []
    },
    {
      "cell_type": "markdown",
      "source": [
        "### Nested If-Else Statements:"
      ],
      "metadata": {
        "id": "tUJfypcjm1qM"
      }
    },
    {
      "cell_type": "code",
      "source": [
        "# Get input from the user\n",
        "num1 = float(input(\"Enter the first number: \"))\n",
        "num2 = float(input(\"Enter the second number: \"))\n",
        "num3 = float(input(\"Enter the third number: \"))\n",
        "\n",
        "# Compare the numbers to find the largest\n",
        "if num1 >= num2:\n",
        "    if num1 >= num3:\n",
        "        largest = num1\n",
        "    else:\n",
        "        largest = num3\n",
        "else:\n",
        "    if num2 >= num3:\n",
        "        largest = num2\n",
        "    else:\n",
        "        largest = num3\n",
        "\n",
        "# Print the largest number\n",
        "print(f\"The largest number among {num1}, {num2}, and {num3} is: {largest}\")\n"
      ],
      "metadata": {
        "id": "B348pYEfmQO6"
      },
      "execution_count": null,
      "outputs": []
    },
    {
      "cell_type": "code",
      "source": [
        "# Get input from the user\n",
        "year = int(input(\"Enter a year: \"))\n",
        "\n",
        "# Check if the year is a leap year\n",
        "if (year % 4 == 0 and year % 100 != 0) or (year % 400 == 0):\n",
        "    print(f\"{year} is a leap year.\")\n",
        "\n",
        "    # Check if the year is a century year\n",
        "    if year % 100 == 0:\n",
        "        print(f\"{year} is a century year.\")\n",
        "    else:\n",
        "        print(f\"{year} is not a century year.\")\n",
        "else:\n",
        "    print(f\"{year} is not a leap year.\")\n",
        "\n"
      ],
      "metadata": {
        "id": "ChZ5dDCKbX6Q"
      },
      "execution_count": null,
      "outputs": []
    },
    {
      "cell_type": "code",
      "source": [
        "# Get input from the user\n",
        "number = float(input(\"Enter a number: \"))\n",
        "\n",
        "# checking the number like positive or negetive\n",
        "if number > 0:\n",
        "  print(\"The number is positive\")\n",
        "elif number < 0:\n",
        "  print(\"The number is negetive\")\n",
        "else:\n",
        "  print(\"The number is zero\")\n"
      ],
      "metadata": {
        "id": "nlwPKU_oYGh-"
      },
      "execution_count": null,
      "outputs": []
    },
    {
      "cell_type": "code",
      "source": [
        "# Getting the age of the user\n",
        "age = int(input(\"Enter your age; \"))\n",
        "\n",
        "# checking the age of the user\n",
        "if 13 <= age <= 19:\n",
        "  print(\"You are a teenager\")\n",
        "else:\n",
        "  print(\"You are not a teenager\")"
      ],
      "metadata": {
        "id": "yoKpIVf6-LX7"
      },
      "execution_count": null,
      "outputs": []
    },
    {
      "cell_type": "code",
      "source": [
        "# Getting input from the user\n",
        "day_number = int(input(\"Enter a number (1 for monday, 2 for tuesday, etc; )\"))\n",
        "\n",
        "#checking the days of the week\n",
        "if 1 <= day_number <= 7:\n",
        "  days_of_week = [\"Monday\", \"Tuesday\", \"Wednesday\", \"Thursday\", \"Friday\", \"Saturday\", \"Sunday\"]\n",
        "  day_name = days_of_week[day_number -1]\n",
        "  print(f\"The day corresponding to {day_number} is {day_name}.\")\n",
        "else:\n",
        "    print(\"Invalid input. Please enter a number between 1 and 7.\")\n"
      ],
      "metadata": {
        "id": "cvuo9blDAInL"
      },
      "execution_count": null,
      "outputs": []
    },
    {
      "cell_type": "code",
      "source": [
        "# Get input from the user for the lengths of the sides\n",
        "side1 = float(input(\"Enter the length of the first side: \"))\n",
        "side2 = float(input(\"Enter the length of the second side: \"))\n",
        "side3 = float(input(\"Enter the length of the third side: \"))\n",
        "\n",
        "# Check if it forms a valid triangle\n",
        "if side1 + side2 > side3 and side1 + side3 > side2 and side2 + side3 > side1:\n",
        "    # Check the type of triangle\n",
        "    if side1 == side2 == side3:\n",
        "        print(\"It's an equilateral triangle.\")\n",
        "    elif side1 == side2 or side1 == side3 or side2 == side3:\n",
        "        print(\"It's an isosceles triangle.\")\n",
        "    else:\n",
        "        print(\"It's a scalene triangle.\")\n",
        "else:\n",
        "    print(\"The given side lengths do not form a valid triangle.\")\n"
      ],
      "metadata": {
        "id": "BZNrhzUmCX15"
      },
      "execution_count": null,
      "outputs": []
    },
    {
      "cell_type": "code",
      "source": [
        "# Get input from the user\n",
        "year = int(input(\"Enter a year: \"))\n",
        "\n",
        "# Check if the year is a leap year\n",
        "if (year % 4 == 0 and year % 100 != 0) or (year % 400 == 0):\n",
        "    print(f\"{year} is a leap year.\")\n",
        "\n",
        "    # Check if the year is evenly divisible by 400\n",
        "    if year % 400 == 0:\n",
        "        print(f\"{year} is evenly divisible by 400.\")\n",
        "    else:\n",
        "        print(f\"{year} is not evenly divisible by 400.\")\n",
        "else:\n",
        "    print(f\"{year} is not a leap year.\")\n"
      ],
      "metadata": {
        "id": "_S0EQD58DexX"
      },
      "execution_count": null,
      "outputs": []
    },
    {
      "cell_type": "markdown",
      "source": [
        "## **Elif Statements:**"
      ],
      "metadata": {
        "id": "CFSk-pipsTIy"
      }
    },
    {
      "cell_type": "code",
      "source": [
        "# Getting input from the user for the angles of the triangle\n",
        "angle1 = float(input(\"Enter first angle: \"))\n",
        "angle2 = float(input(\"Enter second angle: \"))\n",
        "angle3 = float(input(\"Enter third angle: \"))\n",
        "\n",
        "# Cheacking if the angles forms a valid triangle and type\n",
        "if angle1 < 90 and angle2 < 90 and angle3 < 90:\n",
        "  print(\"It's an acute-angled triangle.\")\n",
        "elif angle1 == 90 and angle2 == 90 and angle3 == 90:\n",
        "  print(\"It's an right-angled triangle\")\n",
        "else:\n",
        "  print(\"It's an obtuse-angled triangle\")\n"
      ],
      "metadata": {
        "id": "xO_ZyC4ZHbb3"
      },
      "execution_count": null,
      "outputs": []
    },
    {
      "cell_type": "code",
      "source": [
        "# Getting input from the user\n",
        "num = int(input(\"Enter a number: \"))\n",
        "\n",
        "#checking the number if it is positive, negetive or zero\n",
        "if num > 0:\n",
        "  print(\"The number is positive\")\n",
        "elif num < 0:\n",
        "  print(\"The number is negetive\")\n",
        "else:\n",
        "  print(\"The number is zero\")"
      ],
      "metadata": {
        "id": "7ZP4bInTyiEu"
      },
      "execution_count": null,
      "outputs": []
    },
    {
      "cell_type": "code",
      "source": [
        "# Get input from the user\n",
        "character = input(\"Enter a character: \")\n",
        "\n",
        "# Check the type of character\n",
        "if character.isalpha():\n",
        "    if character.islower():\n",
        "        print(f\"{character} is a lowercase letter.\")\n",
        "    elif character.isupper():\n",
        "        print(f\"{character} is an uppercase letter.\")\n",
        "else:\n",
        "    print(f\"{character} is a special character or digit.\")\n"
      ],
      "metadata": {
        "id": "ao2oLWp10oD-"
      },
      "execution_count": null,
      "outputs": []
    },
    {
      "cell_type": "code",
      "source": [
        "# Get input from the user for the purchase amount\n",
        "purchase_amount = float(input(\"Enter the purchase amount: \"))\n",
        "\n",
        "# Set discount rates based on purchase amount\n",
        "if purchase_amount >= 500:\n",
        "    discount_rate = 0.1  # 10% discount for purchases of $500 or more\n",
        "elif purchase_amount >= 200:\n",
        "    discount_rate = 0.05  # 5% discount for purchases between $200 and $499.99\n",
        "else:\n",
        "    discount_rate = 0  # No discount for purchases less than $200\n",
        "\n",
        "# Calculate discounted price\n",
        "discounted_price = purchase_amount - (purchase_amount * discount_rate)\n",
        "\n",
        "# Print the results\n",
        "print(f\"Original Price: ${purchase_amount:.2f}\")\n",
        "print(f\"Discount Rate: {discount_rate * 100}%\")\n",
        "print(f\"Discounted Price: ${discounted_price:.2f}\")\n"
      ],
      "metadata": {
        "id": "s1XzJ-iFJLoc"
      },
      "execution_count": null,
      "outputs": []
    },
    {
      "cell_type": "code",
      "source": [
        "# Getting input from the user\n",
        "month = str(input(\"Enter a month to know the season: \"))\n",
        "\n",
        "month = month.lower()\n",
        "\n",
        "# Determine the season based on month\n",
        "if month in [\"December\", \"January\", \"Feburary\"]:\n",
        "  season = \"Winter\"\n",
        "elif month in [\"March\", \"April\", \"May\"]:\n",
        "  season = \"Spring\"\n",
        "elif month in [\"June\", \"July\", \"August\"]:\n",
        "  season = \"Summer\"\n",
        "elif month in [\"September\", \"October\", \"November\"]:\n",
        "  season = \"Fall\"\n",
        "else:\n",
        " season = \"Invalid month\"\n",
        "\n",
        "# Printing the result\n",
        "if saason != \"Invalid month\":"
      ],
      "metadata": {
        "id": "c8GzbyI8RaJt"
      },
      "execution_count": null,
      "outputs": []
    },
    {
      "cell_type": "code",
      "source": [
        "# Get input from the user for the year and month\n",
        "year = int(input(\"Enter a year: \"))\n",
        "month = input(\"Enter a month (e.g., January, February, etc.): \")\n",
        "\n",
        "# Convert the month input to lowercase for case-insensitive comparison\n",
        "month = month.lower()\n",
        "\n",
        "# Determine the type of year (leap or common)\n",
        "if (year % 4 == 0 and year % 100 != 0) or (year % 400 == 0):\n",
        "    year_type = \"Leap\"\n",
        "else:\n",
        "    year_type = \"Common\"\n",
        "\n",
        "# Determine the number of days in the month\n",
        "if month in [\"january\", \"march\", \"may\", \"july\", \"august\", \"october\", \"december\"]:\n",
        "    days_in_month = 31\n",
        "elif month in [\"april\", \"june\", \"september\", \"november\"]:\n",
        "    days_in_month = 30\n",
        "elif month == \"february\":\n",
        "    days_in_month = 29 if year_type == \"Leap\" else 28\n",
        "else:\n",
        "    days_in_month = -1  # Invalid month\n",
        "\n",
        "# Print the result\n",
        "if days_in_month != -1:\n",
        "    print(f\"{month.capitalize()} {year} is a {year_type} year and has {days_in_month} days.\")\n",
        "else:\n",
        "    print(\"Invalid month. Please enter a valid month.\")\n"
      ],
      "metadata": {
        "id": "YWOq-7vwVwUr"
      },
      "execution_count": null,
      "outputs": []
    },
    {
      "cell_type": "code",
      "source": [
        "# Get input from the user for the electricity consumption\n",
        "consumption = float(input(\"Enter the electricity consumption in kilowatt-hours: \"))\n",
        "\n",
        "# Define electricity rates for different consumption slabs\n",
        "rate_slab1 = 0.10  # Rate for the first 100 kWh\n",
        "rate_slab2 = 0.15  # Rate for the next 200 kWh\n",
        "rate_slab3 = 0.20  # Rate for consumption above 300 kWh\n",
        "\n",
        "# Initialize variables for total cost and consumed units\n",
        "total_cost = 0.0\n",
        "consumed_units = 0.0\n",
        "\n",
        "# Check consumption slabs and calculate cost accordingly\n",
        "if consumption <= 100:\n",
        "    total_cost = consumption * rate_slab1\n",
        "    consumed_units = consumption\n",
        "elif consumption <= 300:\n",
        "    total_cost = (100 * rate_slab1) + ((consumption - 100) * rate_slab2)\n",
        "    consumed_units = consumption\n",
        "else:\n",
        "    total_cost = (100 * rate_slab1) + (200 * rate_slab2) + ((consumption - 300) * rate_slab3)\n",
        "    consumed_units = consumption\n",
        "\n",
        "# Print the results\n",
        "print(f\"Electricity Consumption: {consumed_units:.2f} kWh\")\n",
        "print(f\"Total Cost: ${total_cost:.2f}\")\n"
      ],
      "metadata": {
        "id": "ALLgPddjEsXd"
      },
      "execution_count": null,
      "outputs": []
    },
    {
      "cell_type": "code",
      "source": [],
      "metadata": {
        "id": "0r8gOak-X8jg"
      },
      "execution_count": null,
      "outputs": []
    }
  ]
}